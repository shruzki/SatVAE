{
  "nbformat": 4,
  "nbformat_minor": 0,
  "metadata": {
    "colab": {
      "provenance": []
    },
    "kernelspec": {
      "name": "python3",
      "display_name": "Python 3"
    },
    "language_info": {
      "name": "python"
    }
  },
  "cells": [
    {
      "cell_type": "code",
      "execution_count": null,
      "metadata": {
        "colab": {
          "base_uri": "https://localhost:8080/"
        },
        "id": "LTgGZvGio9BB",
        "outputId": "c5ec38bd-5f6c-4d22-8028-17928f1fc709"
      },
      "outputs": [
        {
          "output_type": "stream",
          "name": "stdout",
          "text": [
            "Requirement already satisfied: earthengine-api in /usr/local/lib/python3.10/dist-packages (0.1.384)\n",
            "Requirement already satisfied: google-cloud-storage in /usr/local/lib/python3.10/dist-packages (from earthengine-api) (2.8.0)\n",
            "Requirement already satisfied: google-api-python-client>=1.12.1 in /usr/local/lib/python3.10/dist-packages (from earthengine-api) (2.84.0)\n",
            "Requirement already satisfied: google-auth>=1.4.1 in /usr/local/lib/python3.10/dist-packages (from earthengine-api) (2.17.3)\n",
            "Requirement already satisfied: google-auth-httplib2>=0.0.3 in /usr/local/lib/python3.10/dist-packages (from earthengine-api) (0.1.1)\n",
            "Requirement already satisfied: httplib2<1dev,>=0.9.2 in /usr/local/lib/python3.10/dist-packages (from earthengine-api) (0.22.0)\n",
            "Requirement already satisfied: requests in /usr/local/lib/python3.10/dist-packages (from earthengine-api) (2.31.0)\n",
            "Requirement already satisfied: google-api-core!=2.0.*,!=2.1.*,!=2.2.*,!=2.3.0,<3.0.0dev,>=1.31.5 in /usr/local/lib/python3.10/dist-packages (from google-api-python-client>=1.12.1->earthengine-api) (2.11.1)\n",
            "Requirement already satisfied: uritemplate<5,>=3.0.1 in /usr/local/lib/python3.10/dist-packages (from google-api-python-client>=1.12.1->earthengine-api) (4.1.1)\n",
            "Requirement already satisfied: cachetools<6.0,>=2.0.0 in /usr/local/lib/python3.10/dist-packages (from google-auth>=1.4.1->earthengine-api) (5.3.2)\n",
            "Requirement already satisfied: pyasn1-modules>=0.2.1 in /usr/local/lib/python3.10/dist-packages (from google-auth>=1.4.1->earthengine-api) (0.3.0)\n",
            "Requirement already satisfied: six>=1.9.0 in /usr/local/lib/python3.10/dist-packages (from google-auth>=1.4.1->earthengine-api) (1.16.0)\n",
            "Requirement already satisfied: rsa<5,>=3.1.4 in /usr/local/lib/python3.10/dist-packages (from google-auth>=1.4.1->earthengine-api) (4.9)\n",
            "Requirement already satisfied: pyparsing!=3.0.0,!=3.0.1,!=3.0.2,!=3.0.3,<4,>=2.4.2 in /usr/local/lib/python3.10/dist-packages (from httplib2<1dev,>=0.9.2->earthengine-api) (3.1.1)\n",
            "Requirement already satisfied: google-cloud-core<3.0dev,>=2.3.0 in /usr/local/lib/python3.10/dist-packages (from google-cloud-storage->earthengine-api) (2.3.3)\n",
            "Requirement already satisfied: google-resumable-media>=2.3.2 in /usr/local/lib/python3.10/dist-packages (from google-cloud-storage->earthengine-api) (2.7.0)\n",
            "Requirement already satisfied: charset-normalizer<4,>=2 in /usr/local/lib/python3.10/dist-packages (from requests->earthengine-api) (3.3.2)\n",
            "Requirement already satisfied: idna<4,>=2.5 in /usr/local/lib/python3.10/dist-packages (from requests->earthengine-api) (3.6)\n",
            "Requirement already satisfied: urllib3<3,>=1.21.1 in /usr/local/lib/python3.10/dist-packages (from requests->earthengine-api) (2.0.7)\n",
            "Requirement already satisfied: certifi>=2017.4.17 in /usr/local/lib/python3.10/dist-packages (from requests->earthengine-api) (2023.11.17)\n",
            "Requirement already satisfied: googleapis-common-protos<2.0.dev0,>=1.56.2 in /usr/local/lib/python3.10/dist-packages (from google-api-core!=2.0.*,!=2.1.*,!=2.2.*,!=2.3.0,<3.0.0dev,>=1.31.5->google-api-python-client>=1.12.1->earthengine-api) (1.62.0)\n",
            "Requirement already satisfied: protobuf!=3.20.0,!=3.20.1,!=4.21.0,!=4.21.1,!=4.21.2,!=4.21.3,!=4.21.4,!=4.21.5,<5.0.0.dev0,>=3.19.5 in /usr/local/lib/python3.10/dist-packages (from google-api-core!=2.0.*,!=2.1.*,!=2.2.*,!=2.3.0,<3.0.0dev,>=1.31.5->google-api-python-client>=1.12.1->earthengine-api) (3.20.3)\n",
            "Requirement already satisfied: google-crc32c<2.0dev,>=1.0 in /usr/local/lib/python3.10/dist-packages (from google-resumable-media>=2.3.2->google-cloud-storage->earthengine-api) (1.5.0)\n",
            "Requirement already satisfied: pyasn1<0.6.0,>=0.4.6 in /usr/local/lib/python3.10/dist-packages (from pyasn1-modules>=0.2.1->google-auth>=1.4.1->earthengine-api) (0.5.1)\n"
          ]
        }
      ],
      "source": [
        "# pip install earthengine-api"
      ]
    },
    {
      "cell_type": "code",
      "source": [
        "import ee\n",
        "from datetime import datetime\n",
        "\n",
        "# Authenticate to Earth Engine\n",
        "ee.Authenticate()\n",
        "ee.Initialize()\n",
        "\n",
        "# Define your region of interest (ROI) using a GeoJSON geometry\n",
        "roi = ee.Geometry.Polygon(\n",
        "    [[[lon1, lat1], [lon2, lat2], [lon3, lat3], [lon4, lat4]]],\n",
        "    None, False\n",
        ")\n",
        "\n",
        "# Define time range\n",
        "start_date = '2021-01-01'\n",
        "end_date = '2021-12-31'\n",
        "\n",
        "# Create a Sentinel-1 image collection\n",
        "sar_collection = (ee.ImageCollection('COPERNICUS/S1_GRD')\n",
        "                  .filterBounds(roi)\n",
        "                  .filterDate(ee.Date(start_date), ee.Date(end_date))\n",
        "                  .filter(ee.Filter.listContains('transmitterReceiverPolarisation', 'VV'))\n",
        "                  .filter(ee.Filter.listContains('transmitterReceiverPolarisation', 'VH'))\n",
        "                  .select(['VV', 'VH']))  # Select the polarization bands you need\n",
        "\n",
        "# Function to mask clouds from Sentinel-1 images\n",
        "def mask_s1_clouds(image):\n",
        "    # Use the QA band to mask out cloudy pixels\n",
        "    cloud_mask = image.select(['QA60']).bitwiseAnd(1 << 10).eq(0)\n",
        "    return image.updateMask(cloud_mask)\n",
        "\n",
        "# Map the mask function over the collection\n",
        "sar_collection = sar_collection.map(mask_s1_clouds)\n",
        "\n",
        "# Get a list of image IDs\n",
        "image_ids = sar_collection.aggregate_array('system:id').getInfo()\n",
        "\n",
        "# Download each image\n",
        "for image_id in image_ids:\n",
        "    image = ee.Image(image_id)\n",
        "    date = datetime.utcfromtimestamp(image.getInfo()['properties']['system:time_start'] / 1000.0)\n",
        "    date_str = date.strftime('%Y-%m-%d')\n",
        "\n",
        "    # Download the image\n",
        "    task = ee.batch.Export.image.toDrive(\n",
        "        image=image,\n",
        "        description=f'S1_{date_str}',\n",
        "        folder='your_output_folder',  # Change to your desired output folder\n",
        "        scale=10,  # Adjust the scale as needed\n",
        "        region=roi\n",
        "    )\n",
        "    task.start()\n",
        "\n",
        "    # Print status\n",
        "    print(f'Downloading image for {date_str}')\n"
      ],
      "metadata": {
        "id": "G12DRrxHpHPZ"
      },
      "execution_count": null,
      "outputs": []
    },
    {
      "cell_type": "code",
      "source": [
        "import torch\n",
        "import torch.nn as nn\n",
        "import torch.optim as optim\n",
        "\n",
        "class VAE(nn.Module):\n",
        "    def __init__(self, image_dim, rainfall_dim, latent_dim):\n",
        "        super(VAE, self).__init__()\n",
        "\n",
        "        # Encoder layers\n",
        "        self.encoder = nn.Sequential(\n",
        "            nn.Linear(image_dim + rainfall_dim, 256),\n",
        "            nn.ReLU(),\n",
        "            nn.Linear(256, 128),\n",
        "            nn.ReLU(),\n",
        "            nn.Linear(128, latent_dim * 2)  # Two outputs for mean and log-variance\n",
        "        )\n",
        "\n",
        "        # Decoder layers\n",
        "        self.decoder = nn.Sequential(\n",
        "            nn.Linear(latent_dim + rainfall_dim, 128),\n",
        "            nn.ReLU(),\n",
        "            nn.Linear(128, 256),\n",
        "            nn.ReLU(),\n",
        "            nn.Linear(256, image_dim),\n",
        "            nn.Sigmoid()  # Assuming images are normalized between 0 and 1\n",
        "        )\n",
        "\n",
        "    def reparameterize(self, mu, log_var):\n",
        "        std = torch.exp(0.5 * log_var)\n",
        "        eps = torch.randn_like(std)\n",
        "        return mu + eps * std\n",
        "\n",
        "    def forward(self, image, rainfall):\n",
        "        # Concatenate image and rainfall data for both encoder and decoder\n",
        "        x = torch.cat([image, rainfall], dim=1)\n",
        "\n",
        "        # Encoder\n",
        "        encoder_output = self.encoder(x)\n",
        "        mu, log_var = encoder_output[:, :latent_dim], encoder_output[:, latent_dim:]\n",
        "\n",
        "        # Reparameterization trick\n",
        "        z = self.reparameterize(mu, log_var)\n",
        "\n",
        "        # Decoder\n",
        "        decoder_input = torch.cat([z, rainfall], dim=1)\n",
        "        reconstructed_image = self.decoder(decoder_input)\n",
        "\n",
        "        return reconstructed_image, mu, log_var\n"
      ],
      "metadata": {
        "id": "zQp9H4CGVR_U"
      },
      "execution_count": null,
      "outputs": []
    },
    {
      "cell_type": "code",
      "source": [
        "# Inside your training loop\n",
        "num_epochs = 5\n",
        "for epoch in range(num_epochs):\n",
        "    for data in data_loader:\n",
        "        # Extract satellite images and rainfall data\n",
        "        images, rainfall = data\n",
        "\n",
        "        # Zero gradients\n",
        "        optimizer.zero_grad()\n",
        "\n",
        "        # Forward pass\n",
        "        recon_images, mu, log_var = vae(images, rainfall)\n",
        "\n",
        "        # Compute loss\n",
        "        loss = criterion(recon_images, images, mu, log_var)\n",
        "\n",
        "        # Backward pass and optimization\n",
        "        loss.backward()\n",
        "        optimizer.step()\n"
      ],
      "metadata": {
        "id": "Psn1Wsl9VSyz"
      },
      "execution_count": null,
      "outputs": []
    },
    {
      "cell_type": "markdown",
      "source": [],
      "metadata": {
        "id": "RVytNNJVqYlO"
      }
    }
  ]
}